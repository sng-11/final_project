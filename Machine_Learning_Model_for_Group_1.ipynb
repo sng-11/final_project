{
  "nbformat": 4,
  "nbformat_minor": 0,
  "metadata": {
    "colab": {
      "name": "Machine Learning Model for Group 1.ipynb",
      "provenance": [],
      "authorship_tag": "ABX9TyNyViWQ7AcOlf9J56SAzrKZ",
      "include_colab_link": true
    },
    "kernelspec": {
      "name": "python3",
      "display_name": "Python 3"
    },
    "language_info": {
      "name": "python"
    }
  },
  "cells": [
    {
      "cell_type": "markdown",
      "metadata": {
        "id": "view-in-github",
        "colab_type": "text"
      },
      "source": [
        "<a href=\"https://colab.research.google.com/github/sng-11/final_project/blob/ML-model/Machine_Learning_Model_for_Group_1.ipynb\" target=\"_parent\"><img src=\"https://colab.research.google.com/assets/colab-badge.svg\" alt=\"Open In Colab\"/></a>"
      ]
    },
    {
      "cell_type": "code",
      "metadata": {
        "id": "ujhAzmaddH2t"
      },
      "source": [
        "#Import Depedencies\n",
        "import pandas as pd \n",
        "import numpy as np\n",
        "import matplotlib.pyplot as plt\n",
        "from sklearn import linear_model\n",
        "from sklearn.preprocessing import Label Encoder "
      ],
      "execution_count": null,
      "outputs": []
    },
    {
      "cell_type": "code",
      "metadata": {
        "id": "50NYdnEAdO5X"
      },
      "source": [
        "#Import Data"
      ],
      "execution_count": null,
      "outputs": []
    },
    {
      "cell_type": "code",
      "metadata": {
        "id": "VdC8j9Q5diB3"
      },
      "source": [
        "#ML model "
      ],
      "execution_count": null,
      "outputs": []
    },
    {
      "cell_type": "code",
      "metadata": {
        "id": "ES5MBImydku5"
      },
      "source": [
        "#Output "
      ],
      "execution_count": null,
      "outputs": []
    },
    {
      "cell_type": "code",
      "metadata": {
        "id": "9kP_GG60TwTr"
      },
      "source": [
        "#Evaluate Model to find P values "
      ],
      "execution_count": null,
      "outputs": []
    }
  ]
}