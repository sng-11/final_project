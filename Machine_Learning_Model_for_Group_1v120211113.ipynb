{
  "nbformat": 4,
  "nbformat_minor": 0,
  "metadata": {
    "colab": {
      "name": "Machine Learning Model for Group 1.ipynb",
      "provenance": [],
      "include_colab_link": true
    },
    "kernelspec": {
      "name": "python3",
      "display_name": "Python 3"
    },
    "language_info": {
      "name": "python"
    }
  },
  "cells": [
    {
      "cell_type": "markdown",
      "metadata": {
        "id": "view-in-github",
        "colab_type": "text"
      },
      "source": [
        "<a href=\"https://colab.research.google.com/github/sng-11/final_project/blob/melissa_database/Machine_Learning_Model_for_Group_1v120211113.ipynb\" target=\"_parent\"><img src=\"https://colab.research.google.com/assets/colab-badge.svg\" alt=\"Open In Colab\"/></a>"
      ]
    },
    {
      "cell_type": "code",
      "metadata": {
        "id": "ujhAzmaddH2t"
      },
      "source": [
        "#Import Depedencies\n",
        "import pandas as pd \n",
        "import numpy as np\n",
        "import matplotlib.pyplot as plt\n",
        "from sklearn import linear_model\n",
        "from sklearn.preprocessing import LabelEncoder \n",
        "from sqlalchemy import create_engine"
      ],
      "execution_count": 2,
      "outputs": []
    },
    {
      "cell_type": "code",
      "metadata": {
        "colab": {
          "base_uri": "https://localhost:8080/"
        },
        "id": "n6oPkOijlO8v",
        "outputId": "0431dabe-d242-471a-f089-03432bb4c4b8"
      },
      "source": [
        "engine=create_engine(\"postgresql://postgres:<password>@finalproject-1.cyuuo7igvqta.us-east-2.rds.amazonaws.com/finalproject1\")"
      ],
      "execution_count": 3,
      "outputs": [
        {
          "output_type": "stream",
          "name": "stderr",
          "text": [
            "/usr/local/lib/python3.7/dist-packages/psycopg2/__init__.py:144: UserWarning: The psycopg2 wheel package will be renamed from release 2.8; in order to keep installing from binary please use \"pip install psycopg2-binary\" instead. For details see: <http://initd.org/psycopg/docs/install.html#binary-install-from-pypi>.\n",
            "  \"\"\")\n"
          ]
        }
      ]
    },
    {
      "cell_type": "code",
      "metadata": {
        "colab": {
          "base_uri": "https://localhost:8080/",
          "height": 419
        },
        "id": "bBrgn_EwoQAI",
        "outputId": "fb6c1e55-6e16-4a8c-88a9-797ab8d00cfe"
      },
      "source": [
        "query=\"\"\"\n",
        "SELECT final_demographics.user_id,\n",
        "final_demographics.gender,\n",
        "final_demographics.income_level,\n",
        "final_demographics.age,\n",
        "plays_sum.minutes_viewed,\n",
        "plays_sum.ml_output\n",
        "FROM final_demographics\n",
        "INNER JOIN plays_sum\n",
        "ON final_demographics.user_id = plays_sum.user_id;\n",
        "\"\"\"\n",
        "df=pd.read_sql(query,engine)\n",
        "df"
      ],
      "execution_count": 4,
      "outputs": [
        {
          "output_type": "execute_result",
          "data": {
            "text/html": [
              "<div>\n",
              "<style scoped>\n",
              "    .dataframe tbody tr th:only-of-type {\n",
              "        vertical-align: middle;\n",
              "    }\n",
              "\n",
              "    .dataframe tbody tr th {\n",
              "        vertical-align: top;\n",
              "    }\n",
              "\n",
              "    .dataframe thead th {\n",
              "        text-align: right;\n",
              "    }\n",
              "</style>\n",
              "<table border=\"1\" class=\"dataframe\">\n",
              "  <thead>\n",
              "    <tr style=\"text-align: right;\">\n",
              "      <th></th>\n",
              "      <th>user_id</th>\n",
              "      <th>gender</th>\n",
              "      <th>income_level</th>\n",
              "      <th>age</th>\n",
              "      <th>minutes_viewed</th>\n",
              "      <th>ml_output</th>\n",
              "    </tr>\n",
              "  </thead>\n",
              "  <tbody>\n",
              "    <tr>\n",
              "      <th>0</th>\n",
              "      <td>35</td>\n",
              "      <td>Male</td>\n",
              "      <td>Low</td>\n",
              "      <td>18 - 24</td>\n",
              "      <td>11</td>\n",
              "      <td>None</td>\n",
              "    </tr>\n",
              "    <tr>\n",
              "      <th>1</th>\n",
              "      <td>67</td>\n",
              "      <td>Female</td>\n",
              "      <td>High</td>\n",
              "      <td>18 - 24</td>\n",
              "      <td>1446</td>\n",
              "      <td>None</td>\n",
              "    </tr>\n",
              "    <tr>\n",
              "      <th>2</th>\n",
              "      <td>73</td>\n",
              "      <td>Female</td>\n",
              "      <td>Medium</td>\n",
              "      <td>25 - 34</td>\n",
              "      <td>113</td>\n",
              "      <td>None</td>\n",
              "    </tr>\n",
              "    <tr>\n",
              "      <th>3</th>\n",
              "      <td>74</td>\n",
              "      <td>Male</td>\n",
              "      <td>Low</td>\n",
              "      <td>35 - 44</td>\n",
              "      <td>1</td>\n",
              "      <td>None</td>\n",
              "    </tr>\n",
              "    <tr>\n",
              "      <th>4</th>\n",
              "      <td>75</td>\n",
              "      <td>Male</td>\n",
              "      <td>Low</td>\n",
              "      <td>25 - 34</td>\n",
              "      <td>0</td>\n",
              "      <td>None</td>\n",
              "    </tr>\n",
              "    <tr>\n",
              "      <th>...</th>\n",
              "      <td>...</td>\n",
              "      <td>...</td>\n",
              "      <td>...</td>\n",
              "      <td>...</td>\n",
              "      <td>...</td>\n",
              "      <td>...</td>\n",
              "    </tr>\n",
              "    <tr>\n",
              "      <th>9054</th>\n",
              "      <td>1709396984225</td>\n",
              "      <td>Female</td>\n",
              "      <td>Low</td>\n",
              "      <td>&lt; 18</td>\n",
              "      <td>67</td>\n",
              "      <td>None</td>\n",
              "    </tr>\n",
              "    <tr>\n",
              "      <th>9055</th>\n",
              "      <td>1709396984279</td>\n",
              "      <td>Female</td>\n",
              "      <td>Medium</td>\n",
              "      <td>&lt; 18</td>\n",
              "      <td>89</td>\n",
              "      <td>None</td>\n",
              "    </tr>\n",
              "    <tr>\n",
              "      <th>9056</th>\n",
              "      <td>1709396984313</td>\n",
              "      <td>Male</td>\n",
              "      <td>Medium</td>\n",
              "      <td>18 - 24</td>\n",
              "      <td>157</td>\n",
              "      <td>None</td>\n",
              "    </tr>\n",
              "    <tr>\n",
              "      <th>9057</th>\n",
              "      <td>1709396984318</td>\n",
              "      <td>Female</td>\n",
              "      <td>Medium</td>\n",
              "      <td>18 - 24</td>\n",
              "      <td>9</td>\n",
              "      <td>None</td>\n",
              "    </tr>\n",
              "    <tr>\n",
              "      <th>9058</th>\n",
              "      <td>1709396984322</td>\n",
              "      <td>Male</td>\n",
              "      <td>Low</td>\n",
              "      <td>35 - 44</td>\n",
              "      <td>189</td>\n",
              "      <td>None</td>\n",
              "    </tr>\n",
              "  </tbody>\n",
              "</table>\n",
              "<p>9059 rows × 6 columns</p>\n",
              "</div>"
            ],
            "text/plain": [
              "            user_id  gender income_level      age  minutes_viewed ml_output\n",
              "0                35    Male          Low  18 - 24              11      None\n",
              "1                67  Female         High  18 - 24            1446      None\n",
              "2                73  Female       Medium  25 - 34             113      None\n",
              "3                74    Male          Low  35 - 44               1      None\n",
              "4                75    Male          Low  25 - 34               0      None\n",
              "...             ...     ...          ...      ...             ...       ...\n",
              "9054  1709396984225  Female          Low     < 18              67      None\n",
              "9055  1709396984279  Female       Medium     < 18              89      None\n",
              "9056  1709396984313    Male       Medium  18 - 24             157      None\n",
              "9057  1709396984318  Female       Medium  18 - 24               9      None\n",
              "9058  1709396984322    Male          Low  35 - 44             189      None\n",
              "\n",
              "[9059 rows x 6 columns]"
            ]
          },
          "metadata": {},
          "execution_count": 4
        }
      ]
    },
    {
      "cell_type": "code",
      "metadata": {
        "id": "50NYdnEAdO5X"
      },
      "source": [
        "#Import Data"
      ],
      "execution_count": null,
      "outputs": []
    },
    {
      "cell_type": "code",
      "metadata": {
        "id": "PjKWGzEDkzv3"
      },
      "source": [
        ""
      ],
      "execution_count": null,
      "outputs": []
    },
    {
      "cell_type": "code",
      "metadata": {
        "id": "VdC8j9Q5diB3"
      },
      "source": [
        "#ML model "
      ],
      "execution_count": null,
      "outputs": []
    },
    {
      "cell_type": "code",
      "metadata": {
        "id": "ES5MBImydku5"
      },
      "source": [
        "#Output "
      ],
      "execution_count": null,
      "outputs": []
    },
    {
      "cell_type": "code",
      "metadata": {
        "id": "9kP_GG60TwTr"
      },
      "source": [
        "#Evaluate Model to find P values "
      ],
      "execution_count": null,
      "outputs": []
    }
  ]
}